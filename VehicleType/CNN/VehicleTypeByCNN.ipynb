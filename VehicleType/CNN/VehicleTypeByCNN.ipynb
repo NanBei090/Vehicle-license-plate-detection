{
 "cells": [
  {
   "metadata": {
    "ExecuteTime": {
     "end_time": "2025-04-22T11:24:29.766442Z",
     "start_time": "2025-04-22T11:24:26.657938Z"
    }
   },
   "cell_type": "code",
   "source": [
    "'''\n",
    "使用CNN做车型分析\n",
    "'''\n",
    "# 导入包\n",
    "import torch\n",
    "import torch.nn as nn\n",
    "import torch.optim as optim\n",
    "from torch.utils.data import DataLoader\n",
    "from torchvision.datasets import ImageFolder\n",
    "from torchvision.transforms import transforms"
   ],
   "id": "a0d70d99-8540-4a65-9935-d90b95606bb3",
   "outputs": [],
   "execution_count": 1
  },
  {
   "cell_type": "code",
   "id": "2ba97947-f1e6-4a9a-863a-d3e93d204d32",
   "metadata": {
    "ExecuteTime": {
     "end_time": "2025-04-22T11:24:29.791608Z",
     "start_time": "2025-04-22T11:24:29.767459Z"
    }
   },
   "source": [
    "# Set the device\n",
    "device = torch.device(\"cuda\" if torch.cuda.is_available() else \"cpu\")\n",
    "# 设置参数\n",
    "num_classes = 4\n",
    "LR = 0.001\n",
    "num_epochs = 100\n",
    "\n",
    "print(device)"
   ],
   "outputs": [
    {
     "name": "stdout",
     "output_type": "stream",
     "text": [
      "cuda\n"
     ]
    }
   ],
   "execution_count": 2
  },
  {
   "cell_type": "markdown",
   "id": "57ad4de7-a16d-4547-a206-ae0f66d923ff",
   "metadata": {},
   "source": [
    "#### 加载数据集"
   ]
  },
  {
   "cell_type": "code",
   "id": "44475719-f00f-4148-af63-2739b373b89b",
   "metadata": {
    "ExecuteTime": {
     "end_time": "2025-04-22T11:24:29.799624Z",
     "start_time": "2025-04-22T11:24:29.792625Z"
    }
   },
   "source": [
    "# 数据预处理\n",
    "transform = transforms.Compose([\n",
    "    transforms.Resize((64, 64)),\n",
    "    transforms.ToTensor(),\n",
    "    transforms.Normalize((0.5, 0.5, 0.5), (0.5, 0.5, 0.5))\n",
    "])\n",
    "# Prepare the dataset and dataloader\n",
    "dataset = ImageFolder('../TypeData', transform=transform)\n",
    "train_size = int(0.75 * len(dataset))\n",
    "test_size = len(dataset) - train_size\n",
    "train_dataset, test_dataset = torch.utils.data.random_split(dataset, [train_size, test_size])\n",
    "\n",
    "train_loader = DataLoader(train_dataset, batch_size=16, shuffle=True)\n",
    "test_loader = DataLoader(test_dataset, batch_size=16, shuffle=False)"
   ],
   "outputs": [],
   "execution_count": 3
  },
  {
   "cell_type": "markdown",
   "id": "1155bdab-7538-4b37-9560-08e52ab54205",
   "metadata": {},
   "source": [
    "#### 定义网络结构"
   ]
  },
  {
   "cell_type": "code",
   "id": "1dbf99af-b12d-48c5-a731-2c683f32a468",
   "metadata": {
    "ExecuteTime": {
     "end_time": "2025-04-22T11:24:29.805474Z",
     "start_time": "2025-04-22T11:24:29.799624Z"
    }
   },
   "source": [
    "import torch.nn.functional as F\n",
    "\n",
    "class CNN(nn.Module):\n",
    "    def __init__(self, num_classes):\n",
    "        super(CNN, self).__init__()\n",
    "        self.conv1 = nn.Conv2d(3, 16, kernel_size=3, padding=1)  # 输入通道 3，输出通道 16\n",
    "        self.pool = nn.MaxPool2d(2, 2)\n",
    "        self.conv2 = nn.Conv2d(16, 32, kernel_size=3, padding=1)\n",
    "        self.fc1 = nn.Linear(32 * 16 * 16, 128)\n",
    "        self.fc2 = nn.Linear(128, num_classes)\n",
    "\n",
    "    def forward(self, x):\n",
    "        x = self.pool(F.relu(self.conv1(x)))  # [B, 16, 32, 32]\n",
    "        x = self.pool(F.relu(self.conv2(x)))  # [B, 32, 16, 16]\n",
    "        x = x.view(x.size(0), -1)             # 展平\n",
    "        x = F.relu(self.fc1(x))\n",
    "        x = self.fc2(x)\n",
    "        return x\n"
   ],
   "outputs": [],
   "execution_count": 4
  },
  {
   "cell_type": "code",
   "id": "0c81c33f-49ee-4517-8d11-713259815156",
   "metadata": {
    "ExecuteTime": {
     "end_time": "2025-04-22T11:24:29.886661Z",
     "start_time": "2025-04-22T11:24:29.806486Z"
    }
   },
   "source": [
    "model = CNN(num_classes).to(device)\n",
    "\n",
    "criterion = nn.CrossEntropyLoss().to(device)\n",
    "optimizer = optim.Adam(model.parameters(), lr=LR)"
   ],
   "outputs": [],
   "execution_count": 5
  },
  {
   "cell_type": "markdown",
   "id": "2bf14f25-c2a7-49c7-aede-99903843acfd",
   "metadata": {},
   "source": [
    "#### 训练模型"
   ]
  },
  {
   "cell_type": "code",
   "id": "f0bc092c-b496-4cb8-9ff9-663cb5b8f46e",
   "metadata": {
    "ExecuteTime": {
     "end_time": "2025-04-22T11:27:40.459967Z",
     "start_time": "2025-04-22T11:24:29.887669Z"
    }
   },
   "source": [
    "import torch\n",
    "import torch.nn as nn\n",
    "\n",
    "model = model.to(device) \n",
    "\n",
    "train_loss_list = []\n",
    "train_acc_list = []\n",
    "test_loss_list = []\n",
    "test_acc_list = []\n",
    "best_acc = 0\n",
    "\n",
    "for epoch in range(num_epochs):\n",
    "    model.train()\n",
    "    train_loss = 0\n",
    "    train_correct = 0\n",
    "\n",
    "    for images, labels in train_loader:\n",
    "        images = images.to(device)\n",
    "        labels = labels.to(device)\n",
    "\n",
    "        optimizer.zero_grad()\n",
    "        outputs = model(images)\n",
    "        loss = criterion(outputs, labels)\n",
    "\n",
    "        loss.backward()\n",
    "        optimizer.step()\n",
    "\n",
    "        train_loss += loss.item()\n",
    "        _, predicted = torch.max(outputs.data, 1)\n",
    "        train_correct += (predicted == labels).sum().item()\n",
    "\n",
    "    train_loss /= len(train_loader)\n",
    "    train_acc = train_correct / len(train_dataset)\n",
    "    train_loss_list.append(train_loss)\n",
    "    train_acc_list.append(train_acc)\n",
    "\n",
    "    # ---------- 验证 ----------\n",
    "    model.eval()\n",
    "    test_loss = 0\n",
    "    test_correct = 0\n",
    "\n",
    "    with torch.no_grad():\n",
    "        for images, labels in test_loader:\n",
    "            images = images.to(device)\n",
    "            labels = labels.to(device)\n",
    "\n",
    "            outputs = model(images)\n",
    "            loss = criterion(outputs, labels)\n",
    "\n",
    "            test_loss += loss.item()\n",
    "            _, predicted = torch.max(outputs.data, 1)\n",
    "            test_correct += (predicted == labels).sum().item()\n",
    "\n",
    "    test_loss /= len(test_loader)\n",
    "    test_acc = test_correct / len(test_dataset)\n",
    "    test_loss_list.append(test_loss)\n",
    "    test_acc_list.append(test_acc)\n",
    "\n",
    "    print(f\"Epoch [{epoch+1}/{num_epochs}]\")\n",
    "    print(f\"Train Loss: {train_loss:.4f}, Train Acc: {train_acc:.4f}, Test  Loss: {test_loss:.4f}, Test  Acc: {test_acc:.4f}\")\n",
    "\n",
    "    # ---------- 保存最优模型 ----------\n",
    "    if test_acc > best_acc:\n",
    "        best_acc = test_acc\n",
    "        torch.save(model.state_dict(), './models/CNN_best_model.pth')"
   ],
   "outputs": [
    {
     "name": "stdout",
     "output_type": "stream",
     "text": [
      "Epoch [1/100]\n",
      "Train Loss: 0.8226, Train Acc: 0.6786, Test  Loss: 0.3740, Test  Acc: 0.9098\n",
      "Epoch [2/100]\n",
      "Train Loss: 0.2960, Train Acc: 0.8901, Test  Loss: 0.1285, Test  Acc: 0.9754\n",
      "Epoch [3/100]\n",
      "Train Loss: 0.1155, Train Acc: 0.9670, Test  Loss: 0.1920, Test  Acc: 0.9262\n",
      "Epoch [4/100]\n",
      "Train Loss: 0.0795, Train Acc: 0.9753, Test  Loss: 0.1458, Test  Acc: 0.9590\n",
      "Epoch [5/100]\n",
      "Train Loss: 0.0591, Train Acc: 0.9863, Test  Loss: 0.0484, Test  Acc: 0.9836\n",
      "Epoch [6/100]\n",
      "Train Loss: 0.0216, Train Acc: 0.9973, Test  Loss: 0.0589, Test  Acc: 0.9754\n",
      "Epoch [7/100]\n",
      "Train Loss: 0.0275, Train Acc: 0.9918, Test  Loss: 0.0619, Test  Acc: 0.9672\n",
      "Epoch [8/100]\n",
      "Train Loss: 0.0301, Train Acc: 0.9890, Test  Loss: 0.0674, Test  Acc: 0.9672\n",
      "Epoch [9/100]\n",
      "Train Loss: 0.0104, Train Acc: 1.0000, Test  Loss: 0.0387, Test  Acc: 0.9918\n",
      "Epoch [10/100]\n",
      "Train Loss: 0.0092, Train Acc: 0.9973, Test  Loss: 0.0454, Test  Acc: 0.9754\n",
      "Epoch [11/100]\n",
      "Train Loss: 0.0044, Train Acc: 1.0000, Test  Loss: 0.0335, Test  Acc: 0.9836\n",
      "Epoch [12/100]\n",
      "Train Loss: 0.0016, Train Acc: 1.0000, Test  Loss: 0.0288, Test  Acc: 0.9918\n",
      "Epoch [13/100]\n",
      "Train Loss: 0.0010, Train Acc: 1.0000, Test  Loss: 0.0250, Test  Acc: 0.9918\n",
      "Epoch [14/100]\n",
      "Train Loss: 0.0008, Train Acc: 1.0000, Test  Loss: 0.0252, Test  Acc: 0.9918\n",
      "Epoch [15/100]\n",
      "Train Loss: 0.0007, Train Acc: 1.0000, Test  Loss: 0.0260, Test  Acc: 0.9918\n",
      "Epoch [16/100]\n",
      "Train Loss: 0.0006, Train Acc: 1.0000, Test  Loss: 0.0268, Test  Acc: 0.9918\n",
      "Epoch [17/100]\n",
      "Train Loss: 0.0005, Train Acc: 1.0000, Test  Loss: 0.0267, Test  Acc: 0.9918\n",
      "Epoch [18/100]\n",
      "Train Loss: 0.0005, Train Acc: 1.0000, Test  Loss: 0.0267, Test  Acc: 0.9918\n",
      "Epoch [19/100]\n",
      "Train Loss: 0.0004, Train Acc: 1.0000, Test  Loss: 0.0267, Test  Acc: 0.9918\n",
      "Epoch [20/100]\n",
      "Train Loss: 0.0004, Train Acc: 1.0000, Test  Loss: 0.0269, Test  Acc: 0.9918\n",
      "Epoch [21/100]\n",
      "Train Loss: 0.0004, Train Acc: 1.0000, Test  Loss: 0.0284, Test  Acc: 0.9918\n",
      "Epoch [22/100]\n",
      "Train Loss: 0.0004, Train Acc: 1.0000, Test  Loss: 0.0277, Test  Acc: 0.9918\n",
      "Epoch [23/100]\n",
      "Train Loss: 0.0003, Train Acc: 1.0000, Test  Loss: 0.0273, Test  Acc: 0.9918\n",
      "Epoch [24/100]\n",
      "Train Loss: 0.0003, Train Acc: 1.0000, Test  Loss: 0.0277, Test  Acc: 0.9918\n",
      "Epoch [25/100]\n",
      "Train Loss: 0.0003, Train Acc: 1.0000, Test  Loss: 0.0276, Test  Acc: 0.9918\n",
      "Epoch [26/100]\n",
      "Train Loss: 0.0002, Train Acc: 1.0000, Test  Loss: 0.0283, Test  Acc: 0.9918\n",
      "Epoch [27/100]\n",
      "Train Loss: 0.0002, Train Acc: 1.0000, Test  Loss: 0.0280, Test  Acc: 0.9918\n",
      "Epoch [28/100]\n",
      "Train Loss: 0.0002, Train Acc: 1.0000, Test  Loss: 0.0278, Test  Acc: 0.9918\n",
      "Epoch [29/100]\n",
      "Train Loss: 0.0002, Train Acc: 1.0000, Test  Loss: 0.0283, Test  Acc: 0.9918\n",
      "Epoch [30/100]\n",
      "Train Loss: 0.0002, Train Acc: 1.0000, Test  Loss: 0.0283, Test  Acc: 0.9918\n",
      "Epoch [31/100]\n",
      "Train Loss: 0.0002, Train Acc: 1.0000, Test  Loss: 0.0279, Test  Acc: 0.9918\n",
      "Epoch [32/100]\n",
      "Train Loss: 0.0002, Train Acc: 1.0000, Test  Loss: 0.0279, Test  Acc: 0.9918\n",
      "Epoch [33/100]\n",
      "Train Loss: 0.0002, Train Acc: 1.0000, Test  Loss: 0.0283, Test  Acc: 0.9918\n",
      "Epoch [34/100]\n",
      "Train Loss: 0.0001, Train Acc: 1.0000, Test  Loss: 0.0290, Test  Acc: 0.9918\n",
      "Epoch [35/100]\n",
      "Train Loss: 0.0001, Train Acc: 1.0000, Test  Loss: 0.0284, Test  Acc: 0.9918\n",
      "Epoch [36/100]\n",
      "Train Loss: 0.0001, Train Acc: 1.0000, Test  Loss: 0.0283, Test  Acc: 0.9918\n",
      "Epoch [37/100]\n",
      "Train Loss: 0.0001, Train Acc: 1.0000, Test  Loss: 0.0285, Test  Acc: 0.9918\n",
      "Epoch [38/100]\n",
      "Train Loss: 0.0001, Train Acc: 1.0000, Test  Loss: 0.0284, Test  Acc: 0.9918\n",
      "Epoch [39/100]\n",
      "Train Loss: 0.0001, Train Acc: 1.0000, Test  Loss: 0.0288, Test  Acc: 0.9918\n",
      "Epoch [40/100]\n",
      "Train Loss: 0.0001, Train Acc: 1.0000, Test  Loss: 0.0286, Test  Acc: 0.9918\n",
      "Epoch [41/100]\n",
      "Train Loss: 0.0001, Train Acc: 1.0000, Test  Loss: 0.0288, Test  Acc: 0.9918\n",
      "Epoch [42/100]\n",
      "Train Loss: 0.0001, Train Acc: 1.0000, Test  Loss: 0.0287, Test  Acc: 0.9918\n",
      "Epoch [43/100]\n",
      "Train Loss: 0.0001, Train Acc: 1.0000, Test  Loss: 0.0291, Test  Acc: 0.9918\n",
      "Epoch [44/100]\n",
      "Train Loss: 0.0001, Train Acc: 1.0000, Test  Loss: 0.0288, Test  Acc: 0.9918\n",
      "Epoch [45/100]\n",
      "Train Loss: 0.0001, Train Acc: 1.0000, Test  Loss: 0.0289, Test  Acc: 0.9918\n",
      "Epoch [46/100]\n",
      "Train Loss: 0.0001, Train Acc: 1.0000, Test  Loss: 0.0288, Test  Acc: 0.9918\n",
      "Epoch [47/100]\n",
      "Train Loss: 0.0001, Train Acc: 1.0000, Test  Loss: 0.0292, Test  Acc: 0.9918\n",
      "Epoch [48/100]\n",
      "Train Loss: 0.0001, Train Acc: 1.0000, Test  Loss: 0.0289, Test  Acc: 0.9918\n",
      "Epoch [49/100]\n",
      "Train Loss: 0.0001, Train Acc: 1.0000, Test  Loss: 0.0292, Test  Acc: 0.9918\n",
      "Epoch [50/100]\n",
      "Train Loss: 0.0001, Train Acc: 1.0000, Test  Loss: 0.0292, Test  Acc: 0.9918\n",
      "Epoch [51/100]\n",
      "Train Loss: 0.0001, Train Acc: 1.0000, Test  Loss: 0.0289, Test  Acc: 0.9918\n",
      "Epoch [52/100]\n",
      "Train Loss: 0.0001, Train Acc: 1.0000, Test  Loss: 0.0293, Test  Acc: 0.9918\n",
      "Epoch [53/100]\n",
      "Train Loss: 0.0001, Train Acc: 1.0000, Test  Loss: 0.0292, Test  Acc: 0.9918\n",
      "Epoch [54/100]\n",
      "Train Loss: 0.0001, Train Acc: 1.0000, Test  Loss: 0.0288, Test  Acc: 0.9918\n",
      "Epoch [55/100]\n",
      "Train Loss: 0.0001, Train Acc: 1.0000, Test  Loss: 0.0295, Test  Acc: 0.9918\n",
      "Epoch [56/100]\n",
      "Train Loss: 0.0001, Train Acc: 1.0000, Test  Loss: 0.0297, Test  Acc: 0.9918\n",
      "Epoch [57/100]\n",
      "Train Loss: 0.0001, Train Acc: 1.0000, Test  Loss: 0.0295, Test  Acc: 0.9918\n",
      "Epoch [58/100]\n",
      "Train Loss: 0.0001, Train Acc: 1.0000, Test  Loss: 0.0290, Test  Acc: 0.9918\n",
      "Epoch [59/100]\n",
      "Train Loss: 0.0000, Train Acc: 1.0000, Test  Loss: 0.0293, Test  Acc: 0.9918\n",
      "Epoch [60/100]\n",
      "Train Loss: 0.0000, Train Acc: 1.0000, Test  Loss: 0.0296, Test  Acc: 0.9918\n",
      "Epoch [61/100]\n",
      "Train Loss: 0.0000, Train Acc: 1.0000, Test  Loss: 0.0294, Test  Acc: 0.9918\n",
      "Epoch [62/100]\n",
      "Train Loss: 0.0000, Train Acc: 1.0000, Test  Loss: 0.0295, Test  Acc: 0.9918\n",
      "Epoch [63/100]\n",
      "Train Loss: 0.0000, Train Acc: 1.0000, Test  Loss: 0.0296, Test  Acc: 0.9918\n",
      "Epoch [64/100]\n",
      "Train Loss: 0.0000, Train Acc: 1.0000, Test  Loss: 0.0296, Test  Acc: 0.9918\n",
      "Epoch [65/100]\n",
      "Train Loss: 0.0000, Train Acc: 1.0000, Test  Loss: 0.0298, Test  Acc: 0.9918\n",
      "Epoch [66/100]\n",
      "Train Loss: 0.0000, Train Acc: 1.0000, Test  Loss: 0.0295, Test  Acc: 0.9918\n",
      "Epoch [67/100]\n",
      "Train Loss: 0.0000, Train Acc: 1.0000, Test  Loss: 0.0298, Test  Acc: 0.9918\n",
      "Epoch [68/100]\n",
      "Train Loss: 0.0000, Train Acc: 1.0000, Test  Loss: 0.0297, Test  Acc: 0.9918\n",
      "Epoch [69/100]\n",
      "Train Loss: 0.0000, Train Acc: 1.0000, Test  Loss: 0.0296, Test  Acc: 0.9918\n",
      "Epoch [70/100]\n",
      "Train Loss: 0.0000, Train Acc: 1.0000, Test  Loss: 0.0295, Test  Acc: 0.9918\n",
      "Epoch [71/100]\n",
      "Train Loss: 0.0000, Train Acc: 1.0000, Test  Loss: 0.0294, Test  Acc: 0.9918\n",
      "Epoch [72/100]\n",
      "Train Loss: 0.0000, Train Acc: 1.0000, Test  Loss: 0.0297, Test  Acc: 0.9918\n",
      "Epoch [73/100]\n",
      "Train Loss: 0.0000, Train Acc: 1.0000, Test  Loss: 0.0298, Test  Acc: 0.9918\n",
      "Epoch [74/100]\n",
      "Train Loss: 0.0000, Train Acc: 1.0000, Test  Loss: 0.0300, Test  Acc: 0.9918\n",
      "Epoch [75/100]\n",
      "Train Loss: 0.0000, Train Acc: 1.0000, Test  Loss: 0.0299, Test  Acc: 0.9918\n",
      "Epoch [76/100]\n",
      "Train Loss: 0.0000, Train Acc: 1.0000, Test  Loss: 0.0300, Test  Acc: 0.9918\n",
      "Epoch [77/100]\n",
      "Train Loss: 0.0000, Train Acc: 1.0000, Test  Loss: 0.0297, Test  Acc: 0.9918\n",
      "Epoch [78/100]\n",
      "Train Loss: 0.0000, Train Acc: 1.0000, Test  Loss: 0.0300, Test  Acc: 0.9918\n",
      "Epoch [79/100]\n",
      "Train Loss: 0.0000, Train Acc: 1.0000, Test  Loss: 0.0304, Test  Acc: 0.9918\n",
      "Epoch [80/100]\n",
      "Train Loss: 0.0000, Train Acc: 1.0000, Test  Loss: 0.0301, Test  Acc: 0.9918\n",
      "Epoch [81/100]\n",
      "Train Loss: 0.0000, Train Acc: 1.0000, Test  Loss: 0.0302, Test  Acc: 0.9836\n",
      "Epoch [82/100]\n",
      "Train Loss: 0.0000, Train Acc: 1.0000, Test  Loss: 0.0299, Test  Acc: 0.9918\n",
      "Epoch [83/100]\n",
      "Train Loss: 0.0000, Train Acc: 1.0000, Test  Loss: 0.0303, Test  Acc: 0.9918\n",
      "Epoch [84/100]\n",
      "Train Loss: 0.0000, Train Acc: 1.0000, Test  Loss: 0.0302, Test  Acc: 0.9918\n",
      "Epoch [85/100]\n",
      "Train Loss: 0.0000, Train Acc: 1.0000, Test  Loss: 0.0300, Test  Acc: 0.9918\n",
      "Epoch [86/100]\n",
      "Train Loss: 0.0000, Train Acc: 1.0000, Test  Loss: 0.0301, Test  Acc: 0.9918\n",
      "Epoch [87/100]\n",
      "Train Loss: 0.0000, Train Acc: 1.0000, Test  Loss: 0.0304, Test  Acc: 0.9918\n",
      "Epoch [88/100]\n",
      "Train Loss: 0.0000, Train Acc: 1.0000, Test  Loss: 0.0306, Test  Acc: 0.9918\n",
      "Epoch [89/100]\n",
      "Train Loss: 0.0000, Train Acc: 1.0000, Test  Loss: 0.0304, Test  Acc: 0.9918\n",
      "Epoch [90/100]\n",
      "Train Loss: 0.0000, Train Acc: 1.0000, Test  Loss: 0.0307, Test  Acc: 0.9918\n",
      "Epoch [91/100]\n",
      "Train Loss: 0.0000, Train Acc: 1.0000, Test  Loss: 0.0309, Test  Acc: 0.9918\n",
      "Epoch [92/100]\n",
      "Train Loss: 0.0000, Train Acc: 1.0000, Test  Loss: 0.0306, Test  Acc: 0.9918\n",
      "Epoch [93/100]\n",
      "Train Loss: 0.0000, Train Acc: 1.0000, Test  Loss: 0.0309, Test  Acc: 0.9836\n",
      "Epoch [94/100]\n",
      "Train Loss: 0.0000, Train Acc: 1.0000, Test  Loss: 0.0309, Test  Acc: 0.9918\n",
      "Epoch [95/100]\n",
      "Train Loss: 0.0000, Train Acc: 1.0000, Test  Loss: 0.0310, Test  Acc: 0.9836\n",
      "Epoch [96/100]\n",
      "Train Loss: 0.0000, Train Acc: 1.0000, Test  Loss: 0.0309, Test  Acc: 0.9836\n",
      "Epoch [97/100]\n",
      "Train Loss: 0.0000, Train Acc: 1.0000, Test  Loss: 0.0311, Test  Acc: 0.9836\n",
      "Epoch [98/100]\n",
      "Train Loss: 0.0000, Train Acc: 1.0000, Test  Loss: 0.0313, Test  Acc: 0.9836\n",
      "Epoch [99/100]\n",
      "Train Loss: 0.0000, Train Acc: 1.0000, Test  Loss: 0.0315, Test  Acc: 0.9836\n",
      "Epoch [100/100]\n",
      "Train Loss: 0.0000, Train Acc: 1.0000, Test  Loss: 0.0310, Test  Acc: 0.9836\n"
     ]
    }
   ],
   "execution_count": 6
  },
  {
   "cell_type": "markdown",
   "id": "e305e0e0-5335-4ce5-a8cb-6ce3e1c7cf04",
   "metadata": {},
   "source": [
    "#### 绘制loss和accuracy的变化曲线"
   ]
  },
  {
   "cell_type": "code",
   "id": "a8a7483c-5f80-4677-89d2-7cb5b51abd2f",
   "metadata": {
    "ExecuteTime": {
     "end_time": "2025-04-22T11:27:42.107199Z",
     "start_time": "2025-04-22T11:27:40.460971Z"
    }
   },
   "source": [
    "import matplotlib.pyplot as plt\n",
    "# 绘制loss和accuracy的变化曲线\n",
    "plt.figure(figsize=(15, 5))\n",
    "plt.subplot(1, 2, 1)\n",
    "plt.plot(range(1, num_epochs+1), train_loss_list, label='Train Loss')\n",
    "plt.plot(range(1, num_epochs+1), test_loss_list, label='Test Loss')\n",
    "plt.xlabel('Epoch')\n",
    "plt.ylabel('Loss')\n",
    "plt.legend()\n",
    "\n",
    "plt.subplot(1, 2, 2)\n",
    "plt.plot(range(1, num_epochs+1), train_acc_list, label='Train Accuracy')\n",
    "plt.plot(range(1, num_epochs+1), test_acc_list, label='Test Accuracy')\n",
    "plt.xlabel('Epoch')\n",
    "plt.ylabel('Accuracy')\n",
    "plt.legend()\n",
    "\n",
    "plt.tight_layout()\n",
    "plt.show()\n",
    "\n",
    "\n",
    "from sklearn.metrics import classification_report\n",
    "# 加载最佳模型\n",
    "model.load_state_dict(torch.load(\"./models/CNN_best_model.pth\"))\n",
    "\n",
    "# 模型评估\n",
    "model.eval()\n",
    "predictions = []\n",
    "labels_list = []\n",
    "\n",
    "with torch.no_grad():\n",
    "    for images, labels in test_loader:\n",
    "        images = images.to(device)\n",
    "        labels = labels.to(device)\n",
    "\n",
    "        outputs = model(images)\n",
    "        _, predicted = torch.max(outputs.data, 1)\n",
    "\n",
    "        predictions.extend(predicted.cpu().numpy())\n",
    "        labels_list.extend(labels.cpu().numpy())\n",
    "\n",
    "print(classification_report(labels_list, predictions))\n"
   ],
   "outputs": [
    {
     "data": {
      "text/plain": [
       "<Figure size 1500x500 with 2 Axes>"
      ],
      "image/png": "[encoded data removed]"
     },
     "metadata": {},
     "output_type": "display_data"
    },
    {
     "name": "stdout",
     "output_type": "stream",
     "text": [
      "              precision    recall  f1-score   support\n",
      "\n",
      "           0       1.00      1.00      1.00        34\n",
      "           1       1.00      1.00      1.00        31\n",
      "           2       1.00      0.96      0.98        24\n",
      "           3       0.97      1.00      0.99        33\n",
      "\n",
      "    accuracy                           0.99       122\n",
      "   macro avg       0.99      0.99      0.99       122\n",
      "weighted avg       0.99      0.99      0.99       122\n",
      "\n"
     ]
    }
   ],
   "execution_count": 7
  },
  {
   "metadata": {
    "ExecuteTime": {
     "end_time": "2025-04-22T11:27:42.110134Z",
     "start_time": "2025-04-22T11:27:42.108203Z"
    }
   },
   "cell_type": "code",
   "source": "",
   "id": "8c9ce5e54a86b99f",
   "outputs": [],
   "execution_count": 7
  }
 ],
 "metadata": {
  "kernelspec": {
   "display_name": "Python 3 (ipykernel)",
   "language": "python",
   "name": "python3"
  },
  "language_info": {
   "codemirror_mode": {
    "name": "ipython",
    "version": 3
   },
   "file_extension": ".py",
   "mimetype": "text/x-python",
   "name": "python",
   "nbconvert_exporter": "python",
   "pygments_lexer": "ipython3",
   "version": "3.10.8"
  }
 },
 "nbformat": 4,
 "nbformat_minor": 5
}
