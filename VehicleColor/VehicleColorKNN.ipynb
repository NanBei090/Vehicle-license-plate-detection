{
 "cells": [
  {
   "metadata": {
    "ExecuteTime": {
     "end_time": "2025-04-21T14:49:13.196116Z",
     "start_time": "2025-04-21T14:49:09.592131Z"
    }
   },
   "cell_type": "code",
   "source": [
    "'''\n",
    "使用KNN做车辆颜色分析\n",
    "'''\n",
    "# 导入包\n",
    "import os\n",
    "import numpy as np\n",
    "from sklearn.neighbors import KNeighborsClassifier\n",
    "from sklearn.model_selection import train_test_split\n",
    "from sklearn.metrics import classification_report\n",
    "from PIL import Image"
   ],
   "id": "a0d70d99-8540-4a65-9935-d90b95606bb3",
   "outputs": [],
   "execution_count": 1
  },
  {
   "cell_type": "markdown",
   "id": "57ad4de7-a16d-4547-a206-ae0f66d923ff",
   "metadata": {},
   "source": "#### 提取RGB的平均值"
  },
  {
   "cell_type": "code",
   "id": "44475719-f00f-4148-af63-2739b373b89b",
   "metadata": {
    "ExecuteTime": {
     "end_time": "2025-04-21T14:49:13.202087Z",
     "start_time": "2025-04-21T14:49:13.197121Z"
    }
   },
   "source": [
    "def extract_avg_rgb_features(image_folder, image_size=(64, 64)):\n",
    "    data = []\n",
    "    labels = []\n",
    "    \n",
    "    # 遍历类别文件夹\n",
    "    for class_name in os.listdir(image_folder):\n",
    "        class_path = os.path.join(image_folder, class_name)\n",
    "        if not os.path.isdir(class_path):\n",
    "            continue\n",
    "        \n",
    "        for img_name in os.listdir(class_path):\n",
    "            img_path = os.path.join(class_path, img_name)\n",
    "            try:\n",
    "                img = Image.open(img_path).convert('RGB')\n",
    "                img = img.resize(image_size)\n",
    "                np_img = np.array(img) / 255.0  # 归一化\n",
    "                avg_rgb = np.mean(np_img.reshape(-1, 3), axis=0)  # 平均RGB\n",
    "                data.append(avg_rgb)\n",
    "                labels.append(class_name)\n",
    "            except:\n",
    "                continue\n",
    "\n",
    "    return np.array(data), np.array(labels)\n"
   ],
   "outputs": [],
   "execution_count": 2
  },
  {
   "cell_type": "markdown",
   "id": "1155bdab-7538-4b37-9560-08e52ab54205",
   "metadata": {},
   "source": "#### 训练KNN并进行评估"
  },
  {
   "cell_type": "code",
   "id": "1dbf99af-b12d-48c5-a731-2c683f32a468",
   "metadata": {
    "ExecuteTime": {
     "end_time": "2025-04-21T14:49:14.377132Z",
     "start_time": "2025-04-21T14:49:13.203093Z"
    }
   },
   "source": [
    "# 读取图像特征\n",
    "data_dir = './ColorData'  \n",
    "X, y = extract_avg_rgb_features(data_dir)\n",
    "\n",
    "# 划分训练集和测试集\n",
    "X_train, X_test, y_train, y_test = train_test_split(X, y, test_size=0.25, random_state=42)\n",
    "\n",
    "# 训练 KNN 模型\n",
    "knn = KNeighborsClassifier(n_neighbors=3)\n",
    "knn.fit(X_train, y_train)\n",
    "\n",
    "# 预测并评估\n",
    "y_pred = knn.predict(X_test)\n",
    "print(classification_report(y_test, y_pred))\n"
   ],
   "outputs": [
    {
     "name": "stdout",
     "output_type": "stream",
     "text": [
      "              precision    recall  f1-score   support\n",
      "\n",
      "       black       0.70      0.93      0.80        15\n",
      "        blue       1.00      0.72      0.84        18\n",
      "       brown       0.69      0.69      0.69        13\n",
      "       green       1.00      0.89      0.94         9\n",
      "         red       0.91      1.00      0.95        10\n",
      "      silver       0.69      0.79      0.73        14\n",
      "       white       0.93      0.93      0.93        15\n",
      "      yellow       1.00      0.71      0.83         7\n",
      "\n",
      "    accuracy                           0.83       101\n",
      "   macro avg       0.87      0.83      0.84       101\n",
      "weighted avg       0.85      0.83      0.83       101\n",
      "\n"
     ]
    }
   ],
   "execution_count": 3
  }
 ],
 "metadata": {
  "kernelspec": {
   "display_name": "Python 3 (ipykernel)",
   "language": "python",
   "name": "python3"
  },
  "language_info": {
   "codemirror_mode": {
    "name": "ipython",
    "version": 3
   },
   "file_extension": ".py",
   "mimetype": "text/x-python",
   "name": "python",
   "nbconvert_exporter": "python",
   "pygments_lexer": "ipython3",
   "version": "3.10.8"
  }
 },
 "nbformat": 4,
 "nbformat_minor": 5
}
